{
 "cells": [
  {
   "cell_type": "code",
   "execution_count": 28,
   "id": "94c4267e",
   "metadata": {},
   "outputs": [],
   "source": [
    "import sklearn.preprocessing\n",
    "from sklearn.preprocessing import MinMaxScaler, minmax_scale, RobustScaler, StandardScaler, QuantileTransformer, Normalizer"
   ]
  },
  {
   "cell_type": "code",
   "execution_count": 2,
   "id": "0e89ce7b",
   "metadata": {},
   "outputs": [],
   "source": [
    "# Disable warnings\n",
    "import warnings\n",
    "warnings.filterwarnings(\"ignore\")\n",
    "\n",
    "import pandas as pd\n",
    "\n",
    "import matplotlib.pyplot as plt\n",
    "import seaborn as sns\n",
    "\n",
    "from sklearn.model_selection import train_test_split\n",
    "from sklearn.impute import SimpleImputer\n",
    "\n",
    "from env import user, password, host\n",
    "\n",
    "#**************************************************Acquire*******************************************************\n",
    "\n",
    "def acquire_zillow():\n",
    "    ''' Acquire data from Zillow using env imports and rename columns'''\n",
    "    \n",
    "    url = f\"mysql+pymysql://{user}:{password}@{host}/zillow\"\n",
    "    \n",
    "    query = \"\"\"\n",
    "            \n",
    "    SELECT bedroomcnt, bathroomcnt, calculatedfinishedsquarefeet, taxvaluedollarcnt, yearbuilt, taxamount, fips\n",
    "    FROM properties_2017\n",
    "\n",
    "    LEFT JOIN propertylandusetype USING(propertylandusetypeid)\n",
    "\n",
    "    WHERE propertylandusedesc IN (\"Single Family Residential\",                       \n",
    "                                  \"Inferred Single Family Residential\")\"\"\"\n",
    "\n",
    "    # get dataframe of data\n",
    "    df = pd.read_sql(query, url)\n",
    "    \n",
    "    \n",
    "    # renaming column names to one's I like better\n",
    "    df = df.rename(columns = {'bedroomcnt':'bedrooms', \n",
    "                              'bathroomcnt':'bathrooms', \n",
    "                              'calculatedfinishedsquarefeet':'area',\n",
    "                              'taxvaluedollarcnt':'tax_value', \n",
    "                              'yearbuilt':'year_built',})\n",
    "    return df\n",
    "\n",
    "#**************************************************Remove Outliers*******************************************************\n",
    "\n",
    "def remove_outliers(df, k, col_list):\n",
    "    ''' remove outliers from a list of columns in a dataframe \n",
    "        and return that dataframe\n",
    "    '''\n",
    "    \n",
    "    for col in col_list:\n",
    "\n",
    "        q1, q3 = df[col].quantile([.25, .75])  # get quartiles\n",
    "        \n",
    "        iqr = q3 - q1   # calculate interquartile range\n",
    "        \n",
    "        upper_bound = q3 + k * iqr   # get upper bound\n",
    "        lower_bound = q1 - k * iqr   # get lower bound\n",
    "\n",
    "        # return dataframe without outliers\n",
    "        \n",
    "        df = df[(df[col] > lower_bound) & (df[col] < upper_bound)]\n",
    "        \n",
    "    return df\n",
    "\n",
    "#**************************************************Distributions*******************************************************\n",
    "\n",
    "def get_hist(df):\n",
    "    ''' Gets histographs of acquired continuous variables'''\n",
    "    \n",
    "    plt.figure(figsize=(16, 3))\n",
    "\n",
    "    # List of columns\n",
    "    cols = [col for col in df.columns if col not in ['fips', 'year_built']]\n",
    "\n",
    "    for i, col in enumerate(cols):\n",
    "\n",
    "        # i starts at 0, but plot nos should start at 1\n",
    "        plot_number = i + 1 \n",
    "\n",
    "        # Create subplot.\n",
    "        plt.subplot(1, len(cols), plot_number)\n",
    "\n",
    "        # Title with column name.\n",
    "        plt.title(col)\n",
    "\n",
    "        # Display histogram for column.\n",
    "        df[col].hist(bins=5)\n",
    "\n",
    "        # Hide gridlines.\n",
    "        plt.grid(False)\n",
    "\n",
    "        # turn off scientific notation\n",
    "        plt.ticklabel_format(useOffset=False)\n",
    "\n",
    "        plt.tight_layout()\n",
    "\n",
    "    plt.show()\n",
    "        \n",
    "        \n",
    "def get_box(df):\n",
    "    ''' Gets boxplots of acquired continuous variables'''\n",
    "    \n",
    "    # List of columns\n",
    "    cols = ['bedrooms', 'bathrooms', 'area', 'tax_value', 'taxamount']\n",
    "\n",
    "    plt.figure(figsize=(16, 3))\n",
    "\n",
    "    for i, col in enumerate(cols):\n",
    "\n",
    "        # i starts at 0, but plot should start at 1\n",
    "        plot_number = i + 1 \n",
    "\n",
    "        # Create subplot.\n",
    "        plt.subplot(1, len(cols), plot_number)\n",
    "\n",
    "        # Title with column name.\n",
    "        plt.title(col)\n",
    "\n",
    "        # Display boxplot for column.\n",
    "        sns.boxplot(data=df[[col]])\n",
    "\n",
    "        # Hide gridlines.\n",
    "        plt.grid(False)\n",
    "\n",
    "        # sets proper spacing between plots\n",
    "        plt.tight_layout()\n",
    "\n",
    "    plt.show()\n",
    "        \n",
    "#**************************************************Prepare*******************************************************\n",
    "\n",
    "def prepare_zillow(df):\n",
    "    ''' Prepare zillow data for exploration'''\n",
    "\n",
    "    # removing outliers\n",
    "    df = remove_outliers(df, 1.5, ['bedrooms', 'bathrooms', 'area', 'tax_value', 'taxamount'])\n",
    "    \n",
    "    # get distributions of numeric data\n",
    "    get_hist(df)\n",
    "    get_box(df)\n",
    "    \n",
    "    # converting column datatypes\n",
    "    df.fips = df.fips.astype(object)\n",
    "    df.year_built = df.year_built.astype(object)\n",
    "    \n",
    "    # drop taxamount\n",
    "    df = df.drop(columns = 'taxamount')\n",
    "    \n",
    "    # train/validate/test split\n",
    "    train_validate, test = train_test_split(df, test_size=.2, random_state=123)\n",
    "    train, validate = train_test_split(train_validate, test_size=.3, random_state=123)\n",
    "    \n",
    "    # impute year built using mode\n",
    "    imputer = SimpleImputer(strategy='most_frequent')\n",
    "\n",
    "    imputer.fit(train[['year_built']])\n",
    "\n",
    "    train[['year_built']] = imputer.transform(train[['year_built']])\n",
    "    validate[['year_built']] = imputer.transform(validate[['year_built']])\n",
    "    test[['year_built']] = imputer.transform(test[['year_built']])       \n",
    "    \n",
    "    return train, validate, test    \n",
    "\n",
    "#**************************************************Wrangle*******************************************************\n",
    "\n",
    "def wrangle_zillow():\n",
    "    '''Acquire and prepare data from Zillow database for explore'''\n",
    "    train, validate, test = prepare_zillow(acquire_zillow())\n",
    "    \n",
    "    return train, validate, test"
   ]
  },
  {
   "cell_type": "code",
   "execution_count": 46,
   "id": "f493a50f",
   "metadata": {},
   "outputs": [],
   "source": [
    "def visualize_scaled_date(scaler, scaler_name, feature):\n",
    "    scaled = scaler.fit_transform(train[[feature]])\n",
    "    fig = plt.figure(figsize = (12,6))\n",
    "\n",
    "    gs = plt.GridSpec(2,2)\n",
    "\n",
    "    ax1 = fig.add_subplot(gs[0, :])\n",
    "    ax2 = fig.add_subplot(gs[1,0])\n",
    "    ax3 = fig.add_subplot(gs[1,1])\n",
    "\n",
    "    ax1.scatter(train[[feature]], scaled)\n",
    "    ax1.set(xlabel = feature, ylabel = 'Scaled_' + feature, title = scaler_name)\n",
    "\n",
    "    ax2.hist(train[[feature]])\n",
    "    ax2.set(title = 'Original')\n",
    "\n",
    "    ax3.hist(scaled)\n",
    "    ax3.set(title = 'Scaled')\n",
    "    plt.tight_layout();"
   ]
  },
  {
   "cell_type": "code",
   "execution_count": 3,
   "id": "7a7ddf70",
   "metadata": {},
   "outputs": [
    {
     "data": {
      "image/png": "[encoded data removed]",
      "text/plain": [
       "<Figure size 1152x216 with 5 Axes>"
      ]
     },
     "metadata": {
      "needs_background": "light"
     },
     "output_type": "display_data"
    },
    {
     "data": {
      "image/png": "[encoded data removed]",
      "text/plain": [
       "<Figure size 1152x216 with 5 Axes>"
      ]
     },
     "metadata": {
      "needs_background": "light"
     },
     "output_type": "display_data"
    }
   ],
   "source": [
    "train, validate, test = wrangle_zillow()"
   ]
  },
  {
   "cell_type": "code",
   "execution_count": 4,
   "id": "5fdfc2fd",
   "metadata": {},
   "outputs": [
    {
     "name": "stdout",
     "output_type": "stream",
     "text": [
      "The shape of the train dataset is: (1038959, 6)\n",
      "The shape of the validate dataset is: (445269, 6)\n",
      "The shape of the test dataset is: (371057, 6)\n"
     ]
    }
   ],
   "source": [
    "# checking shape after data split\n",
    "\n",
    "print(f'The shape of the train dataset is: {train.shape}')\n",
    "print(f'The shape of the validate dataset is: {validate.shape}')\n",
    "print(f'The shape of the test dataset is: {test.shape}')"
   ]
  },
  {
   "cell_type": "code",
   "execution_count": 5,
   "id": "38437680",
   "metadata": {},
   "outputs": [
    {
     "data": {
      "text/html": [
       "<div>\n",
       "<style scoped>\n",
       "    .dataframe tbody tr th:only-of-type {\n",
       "        vertical-align: middle;\n",
       "    }\n",
       "\n",
       "    .dataframe tbody tr th {\n",
       "        vertical-align: top;\n",
       "    }\n",
       "\n",
       "    .dataframe thead th {\n",
       "        text-align: right;\n",
       "    }\n",
       "</style>\n",
       "<table border=\"1\" class=\"dataframe\">\n",
       "  <thead>\n",
       "    <tr style=\"text-align: right;\">\n",
       "      <th></th>\n",
       "      <th>bedrooms</th>\n",
       "      <th>bathrooms</th>\n",
       "      <th>area</th>\n",
       "      <th>tax_value</th>\n",
       "      <th>year_built</th>\n",
       "      <th>fips</th>\n",
       "    </tr>\n",
       "  </thead>\n",
       "  <tbody>\n",
       "    <tr>\n",
       "      <th>10057</th>\n",
       "      <td>4.0</td>\n",
       "      <td>2.0</td>\n",
       "      <td>1561.0</td>\n",
       "      <td>248240.0</td>\n",
       "      <td>1973.0</td>\n",
       "      <td>6059.0</td>\n",
       "    </tr>\n",
       "    <tr>\n",
       "      <th>2004970</th>\n",
       "      <td>3.0</td>\n",
       "      <td>2.0</td>\n",
       "      <td>1770.0</td>\n",
       "      <td>88390.0</td>\n",
       "      <td>1960.0</td>\n",
       "      <td>6037.0</td>\n",
       "    </tr>\n",
       "    <tr>\n",
       "      <th>306031</th>\n",
       "      <td>2.0</td>\n",
       "      <td>1.0</td>\n",
       "      <td>1452.0</td>\n",
       "      <td>81169.0</td>\n",
       "      <td>1946.0</td>\n",
       "      <td>6037.0</td>\n",
       "    </tr>\n",
       "    <tr>\n",
       "      <th>1038595</th>\n",
       "      <td>3.0</td>\n",
       "      <td>1.0</td>\n",
       "      <td>1000.0</td>\n",
       "      <td>119174.0</td>\n",
       "      <td>1950.0</td>\n",
       "      <td>6037.0</td>\n",
       "    </tr>\n",
       "    <tr>\n",
       "      <th>270959</th>\n",
       "      <td>3.0</td>\n",
       "      <td>2.0</td>\n",
       "      <td>1974.0</td>\n",
       "      <td>432268.0</td>\n",
       "      <td>1988.0</td>\n",
       "      <td>6037.0</td>\n",
       "    </tr>\n",
       "  </tbody>\n",
       "</table>\n",
       "</div>"
      ],
      "text/plain": [
       "         bedrooms  bathrooms    area  tax_value  year_built    fips\n",
       "10057         4.0        2.0  1561.0   248240.0      1973.0  6059.0\n",
       "2004970       3.0        2.0  1770.0    88390.0      1960.0  6037.0\n",
       "306031        2.0        1.0  1452.0    81169.0      1946.0  6037.0\n",
       "1038595       3.0        1.0  1000.0   119174.0      1950.0  6037.0\n",
       "270959        3.0        2.0  1974.0   432268.0      1988.0  6037.0"
      ]
     },
     "execution_count": 5,
     "metadata": {},
     "output_type": "execute_result"
    }
   ],
   "source": [
    "train.head()"
   ]
  },
  {
   "cell_type": "code",
   "execution_count": null,
   "id": "bde85055",
   "metadata": {},
   "outputs": [],
   "source": []
  },
  {
   "cell_type": "markdown",
   "id": "6c1c7702",
   "metadata": {},
   "source": [
    "1. Apply the scalers we talked about in this lesson to your data and visualize the results for the unscaled and scaled distribution "
   ]
  },
  {
   "cell_type": "code",
   "execution_count": 37,
   "id": "9b08d241",
   "metadata": {},
   "outputs": [
    {
     "data": {
      "image/png": "[encoded data removed]",
      "text/plain": [
       "<Figure size 1080x288 with 3 Axes>"
      ]
     },
     "metadata": {
      "needs_background": "light"
     },
     "output_type": "display_data"
    },
    {
     "data": {
      "image/png": "[encoded data removed]",
      "text/plain": [
       "<Figure size 1080x288 with 3 Axes>"
      ]
     },
     "metadata": {
      "needs_background": "light"
     },
     "output_type": "display_data"
    },
    {
     "data": {
      "image/png": "[encoded data removed]",
      "text/plain": [
       "<Figure size 1080x288 with 3 Axes>"
      ]
     },
     "metadata": {
      "needs_background": "light"
     },
     "output_type": "display_data"
    },
    {
     "data": {
      "image/png": "[encoded data removed]",
      "text/plain": [
       "<Figure size 1080x288 with 3 Axes>"
      ]
     },
     "metadata": {
      "needs_background": "light"
     },
     "output_type": "display_data"
    }
   ],
   "source": [
    "# loop scaler types\n",
    "\n",
    "# create lists\n",
    "col_names = ['bedrooms', 'bathrooms', 'area']\n",
    "\n",
    "\n",
    "# plot regular scales\n",
    "\n",
    "fig, axs = plt.subplots(1, 3, figsize=(15,4), sharey = False)\n",
    "\n",
    "for ax, col in zip(axs, col_names):\n",
    "    \n",
    "    sns.histplot(x = train[col], discrete = True, ax = ax)\n",
    "    ax.set(title = f'Original_scale for {col}')\n",
    "    \n",
    "\n",
    "# use MinMax scales\n",
    "    \n",
    "fig, axs = plt.subplots(1, 3, figsize=(15,4), sharey = False)\n",
    "\n",
    "for ax, col in zip(axs, col_names):\n",
    "    \n",
    "    minmax_scaler = MinMaxScaler()\n",
    "\n",
    "    minmax_scaler.fit(train[{col}])\n",
    "\n",
    "    train[f'{col}_minmax'] = minmax_scaler.transform(train[[col]])\n",
    "    \n",
    "    sns.histplot(x = train[f'{col}_minmax'], discrete = True, ax = ax)\n",
    "    \n",
    "    ax.set(title = f'Min_Max_scaled for {col}')\n",
    "        \n",
    "\n",
    "# use RobustScaler\n",
    "        \n",
    "fig, axs = plt.subplots(1, 3, figsize=(15,4), sharey = False)\n",
    "\n",
    "for ax, col in zip(axs, col_names):\n",
    "    \n",
    "    robust_scaler = RobustScaler()\n",
    "\n",
    "    robust_scaler.fit(train[{col}])\n",
    "\n",
    "    train[f'{col}_robust'] = robust_scaler.transform(train[[col]])\n",
    "    \n",
    "    sns.histplot(x = train[f'{col}_robust'], discrete = True, ax = ax)\n",
    "    \n",
    "    ax.set(title = f'Robust Scale of {col}')\n",
    "\n",
    "    \n",
    "# use StandardScaler\n",
    "fig, axs = plt.subplots(1, 3, figsize=(15,4))\n",
    "\n",
    "for ax, col in zip(axs, col_names):\n",
    "    \n",
    "    standard_scaler = StandardScaler()\n",
    "\n",
    "    standard_scaler.fit(train[{col}])\n",
    "\n",
    "    train[f'{col}_standard'] = standard_scaler.transform(train[[col]])\n",
    "    \n",
    "    sns.histplot(x = train[f'{col}_standard'], discrete = True, ax = ax)\n",
    "    \n",
    "    ax.set(title = f'Standard Scaling of {col}')\n",
    "\n"
   ]
  },
  {
   "cell_type": "code",
   "execution_count": 22,
   "id": "3bbe01be",
   "metadata": {},
   "outputs": [
    {
     "data": {
      "text/plain": [
       "10057      0.666667\n",
       "2004970    0.333333\n",
       "306031     0.000000\n",
       "1038595    0.333333\n",
       "270959     0.333333\n",
       "Name: bedrooms_minmax, dtype: float64"
      ]
     },
     "execution_count": 22,
     "metadata": {},
     "output_type": "execute_result"
    }
   ],
   "source": [
    "train.bedrooms_minmax.head()"
   ]
  },
  {
   "cell_type": "code",
   "execution_count": 38,
   "id": "e1ee9d74",
   "metadata": {},
   "outputs": [
    {
     "data": {
      "text/plain": [
       "10057      0.333333\n",
       "2004970    0.333333\n",
       "306031     0.000000\n",
       "1038595    0.000000\n",
       "270959     0.333333\n",
       "Name: bathrooms_minmax, dtype: float64"
      ]
     },
     "execution_count": 38,
     "metadata": {},
     "output_type": "execute_result"
    }
   ],
   "source": [
    "train.bathrooms_minmax.head()"
   ]
  },
  {
   "cell_type": "code",
   "execution_count": 39,
   "id": "9a9e8ee5",
   "metadata": {},
   "outputs": [
    {
     "data": {
      "text/plain": [
       "10057      0.457612\n",
       "2004970    0.518921\n",
       "306031     0.425638\n",
       "1038595    0.293048\n",
       "270959     0.578762\n",
       "Name: area_minmax, dtype: float64"
      ]
     },
     "execution_count": 39,
     "metadata": {},
     "output_type": "execute_result"
    }
   ],
   "source": [
    "train.area_minmax.head()"
   ]
  },
  {
   "cell_type": "markdown",
   "id": "16f52899",
   "metadata": {},
   "source": [
    "2. Apply the .inverse_transform method to your scaled data. Is the resulting dataset the exact same as the original data?"
   ]
  },
  {
   "cell_type": "code",
   "execution_count": 23,
   "id": "5b96c6c2",
   "metadata": {},
   "outputs": [
    {
     "data": {
      "text/html": [
       "<div>\n",
       "<style scoped>\n",
       "    .dataframe tbody tr th:only-of-type {\n",
       "        vertical-align: middle;\n",
       "    }\n",
       "\n",
       "    .dataframe tbody tr th {\n",
       "        vertical-align: top;\n",
       "    }\n",
       "\n",
       "    .dataframe thead th {\n",
       "        text-align: right;\n",
       "    }\n",
       "</style>\n",
       "<table border=\"1\" class=\"dataframe\">\n",
       "  <thead>\n",
       "    <tr style=\"text-align: right;\">\n",
       "      <th></th>\n",
       "      <th>bedrooms</th>\n",
       "      <th>bathrooms</th>\n",
       "      <th>area</th>\n",
       "      <th>tax_value</th>\n",
       "      <th>year_built</th>\n",
       "      <th>fips</th>\n",
       "      <th>bedrooms_minmax</th>\n",
       "      <th>bathrooms_minmax</th>\n",
       "      <th>area_minmax</th>\n",
       "    </tr>\n",
       "  </thead>\n",
       "  <tbody>\n",
       "    <tr>\n",
       "      <th>10057</th>\n",
       "      <td>4.0</td>\n",
       "      <td>2.0</td>\n",
       "      <td>1561.0</td>\n",
       "      <td>248240.0</td>\n",
       "      <td>1973.0</td>\n",
       "      <td>6059.0</td>\n",
       "      <td>0.666667</td>\n",
       "      <td>0.333333</td>\n",
       "      <td>0.457612</td>\n",
       "    </tr>\n",
       "    <tr>\n",
       "      <th>2004970</th>\n",
       "      <td>3.0</td>\n",
       "      <td>2.0</td>\n",
       "      <td>1770.0</td>\n",
       "      <td>88390.0</td>\n",
       "      <td>1960.0</td>\n",
       "      <td>6037.0</td>\n",
       "      <td>0.333333</td>\n",
       "      <td>0.333333</td>\n",
       "      <td>0.518921</td>\n",
       "    </tr>\n",
       "    <tr>\n",
       "      <th>306031</th>\n",
       "      <td>2.0</td>\n",
       "      <td>1.0</td>\n",
       "      <td>1452.0</td>\n",
       "      <td>81169.0</td>\n",
       "      <td>1946.0</td>\n",
       "      <td>6037.0</td>\n",
       "      <td>0.000000</td>\n",
       "      <td>0.000000</td>\n",
       "      <td>0.425638</td>\n",
       "    </tr>\n",
       "    <tr>\n",
       "      <th>1038595</th>\n",
       "      <td>3.0</td>\n",
       "      <td>1.0</td>\n",
       "      <td>1000.0</td>\n",
       "      <td>119174.0</td>\n",
       "      <td>1950.0</td>\n",
       "      <td>6037.0</td>\n",
       "      <td>0.333333</td>\n",
       "      <td>0.000000</td>\n",
       "      <td>0.293048</td>\n",
       "    </tr>\n",
       "    <tr>\n",
       "      <th>270959</th>\n",
       "      <td>3.0</td>\n",
       "      <td>2.0</td>\n",
       "      <td>1974.0</td>\n",
       "      <td>432268.0</td>\n",
       "      <td>1988.0</td>\n",
       "      <td>6037.0</td>\n",
       "      <td>0.333333</td>\n",
       "      <td>0.333333</td>\n",
       "      <td>0.578762</td>\n",
       "    </tr>\n",
       "  </tbody>\n",
       "</table>\n",
       "</div>"
      ],
      "text/plain": [
       "         bedrooms  bathrooms    area  tax_value  year_built    fips  \\\n",
       "10057         4.0        2.0  1561.0   248240.0      1973.0  6059.0   \n",
       "2004970       3.0        2.0  1770.0    88390.0      1960.0  6037.0   \n",
       "306031        2.0        1.0  1452.0    81169.0      1946.0  6037.0   \n",
       "1038595       3.0        1.0  1000.0   119174.0      1950.0  6037.0   \n",
       "270959        3.0        2.0  1974.0   432268.0      1988.0  6037.0   \n",
       "\n",
       "         bedrooms_minmax  bathrooms_minmax  area_minmax  \n",
       "10057           0.666667          0.333333     0.457612  \n",
       "2004970         0.333333          0.333333     0.518921  \n",
       "306031          0.000000          0.000000     0.425638  \n",
       "1038595         0.333333          0.000000     0.293048  \n",
       "270959          0.333333          0.333333     0.578762  "
      ]
     },
     "execution_count": 23,
     "metadata": {},
     "output_type": "execute_result"
    }
   ],
   "source": [
    "train.head()"
   ]
  },
  {
   "cell_type": "code",
   "execution_count": 40,
   "id": "eab41abc",
   "metadata": {},
   "outputs": [
    {
     "data": {
      "text/plain": [
       "array([[0.66666667, 0.33333333, 0.4576122 ],\n",
       "       [0.33333333, 0.33333333, 0.5189205 ],\n",
       "       [0.        , 0.        , 0.42563802],\n",
       "       ...,\n",
       "       [0.33333333, 0.66666667, 0.62511   ],\n",
       "       [0.        , 0.        , 0.22851276],\n",
       "       [0.33333333, 0.        , 0.33176885]])"
      ]
     },
     "execution_count": 40,
     "metadata": {},
     "output_type": "execute_result"
    }
   ],
   "source": [
    "scaler = sklearn.preprocessing.MinMaxScaler()\n",
    "\n",
    "scaled = scaler.fit_transform(train[['bedrooms', 'bathrooms', 'area']])\n",
    "scaled"
   ]
  },
  {
   "cell_type": "code",
   "execution_count": 41,
   "id": "a50664fa",
   "metadata": {},
   "outputs": [
    {
     "data": {
      "text/html": [
       "<div>\n",
       "<style scoped>\n",
       "    .dataframe tbody tr th:only-of-type {\n",
       "        vertical-align: middle;\n",
       "    }\n",
       "\n",
       "    .dataframe tbody tr th {\n",
       "        vertical-align: top;\n",
       "    }\n",
       "\n",
       "    .dataframe thead th {\n",
       "        text-align: right;\n",
       "    }\n",
       "</style>\n",
       "<table border=\"1\" class=\"dataframe\">\n",
       "  <thead>\n",
       "    <tr style=\"text-align: right;\">\n",
       "      <th></th>\n",
       "      <th>bedrooms</th>\n",
       "      <th>bathrooms</th>\n",
       "      <th>area</th>\n",
       "    </tr>\n",
       "  </thead>\n",
       "  <tbody>\n",
       "    <tr>\n",
       "      <th>10057</th>\n",
       "      <td>0.666667</td>\n",
       "      <td>0.333333</td>\n",
       "      <td>0.457612</td>\n",
       "    </tr>\n",
       "    <tr>\n",
       "      <th>2004970</th>\n",
       "      <td>0.333333</td>\n",
       "      <td>0.333333</td>\n",
       "      <td>0.518921</td>\n",
       "    </tr>\n",
       "    <tr>\n",
       "      <th>306031</th>\n",
       "      <td>0.000000</td>\n",
       "      <td>0.000000</td>\n",
       "      <td>0.425638</td>\n",
       "    </tr>\n",
       "    <tr>\n",
       "      <th>1038595</th>\n",
       "      <td>0.333333</td>\n",
       "      <td>0.000000</td>\n",
       "      <td>0.293048</td>\n",
       "    </tr>\n",
       "    <tr>\n",
       "      <th>270959</th>\n",
       "      <td>0.333333</td>\n",
       "      <td>0.333333</td>\n",
       "      <td>0.578762</td>\n",
       "    </tr>\n",
       "  </tbody>\n",
       "</table>\n",
       "</div>"
      ],
      "text/plain": [
       "         bedrooms  bathrooms      area\n",
       "10057    0.666667   0.333333  0.457612\n",
       "2004970  0.333333   0.333333  0.518921\n",
       "306031   0.000000   0.000000  0.425638\n",
       "1038595  0.333333   0.000000  0.293048\n",
       "270959   0.333333   0.333333  0.578762"
      ]
     },
     "execution_count": 41,
     "metadata": {},
     "output_type": "execute_result"
    }
   ],
   "source": [
    "scaled_df = pd.DataFrame(scaled, index = train.index, columns = ['bedrooms', 'bathrooms', 'area'])\n",
    "scaled_df.head()"
   ]
  },
  {
   "cell_type": "code",
   "execution_count": 42,
   "id": "ae429a2f",
   "metadata": {},
   "outputs": [
    {
     "data": {
      "text/plain": [
       "array([[4.000e+00, 2.000e+00, 1.561e+03],\n",
       "       [3.000e+00, 2.000e+00, 1.770e+03],\n",
       "       [2.000e+00, 1.000e+00, 1.452e+03],\n",
       "       ...,\n",
       "       [3.000e+00, 3.000e+00, 2.132e+03],\n",
       "       [2.000e+00, 1.000e+00, 7.800e+02],\n",
       "       [3.000e+00, 1.000e+00, 1.132e+03]])"
      ]
     },
     "execution_count": 42,
     "metadata": {},
     "output_type": "execute_result"
    }
   ],
   "source": [
    "# use inverse_transform method\n",
    "\n",
    "scaler.inverse_transform(scaled_df)"
   ]
  },
  {
   "cell_type": "code",
   "execution_count": 44,
   "id": "2e4c0f36",
   "metadata": {
    "scrolled": true
   },
   "outputs": [
    {
     "data": {
      "text/html": [
       "<div>\n",
       "<style scoped>\n",
       "    .dataframe tbody tr th:only-of-type {\n",
       "        vertical-align: middle;\n",
       "    }\n",
       "\n",
       "    .dataframe tbody tr th {\n",
       "        vertical-align: top;\n",
       "    }\n",
       "\n",
       "    .dataframe thead th {\n",
       "        text-align: right;\n",
       "    }\n",
       "</style>\n",
       "<table border=\"1\" class=\"dataframe\">\n",
       "  <thead>\n",
       "    <tr style=\"text-align: right;\">\n",
       "      <th></th>\n",
       "      <th>bedrooms</th>\n",
       "      <th>bathrooms</th>\n",
       "      <th>area</th>\n",
       "    </tr>\n",
       "  </thead>\n",
       "  <tbody>\n",
       "    <tr>\n",
       "      <th>10057</th>\n",
       "      <td>4.0</td>\n",
       "      <td>2.0</td>\n",
       "      <td>1561.0</td>\n",
       "    </tr>\n",
       "    <tr>\n",
       "      <th>2004970</th>\n",
       "      <td>3.0</td>\n",
       "      <td>2.0</td>\n",
       "      <td>1770.0</td>\n",
       "    </tr>\n",
       "    <tr>\n",
       "      <th>306031</th>\n",
       "      <td>2.0</td>\n",
       "      <td>1.0</td>\n",
       "      <td>1452.0</td>\n",
       "    </tr>\n",
       "    <tr>\n",
       "      <th>1038595</th>\n",
       "      <td>3.0</td>\n",
       "      <td>1.0</td>\n",
       "      <td>1000.0</td>\n",
       "    </tr>\n",
       "    <tr>\n",
       "      <th>270959</th>\n",
       "      <td>3.0</td>\n",
       "      <td>2.0</td>\n",
       "      <td>1974.0</td>\n",
       "    </tr>\n",
       "  </tbody>\n",
       "</table>\n",
       "</div>"
      ],
      "text/plain": [
       "         bedrooms  bathrooms    area\n",
       "10057         4.0        2.0  1561.0\n",
       "2004970       3.0        2.0  1770.0\n",
       "306031        2.0        1.0  1452.0\n",
       "1038595       3.0        1.0  1000.0\n",
       "270959        3.0        2.0  1974.0"
      ]
     },
     "execution_count": 44,
     "metadata": {},
     "output_type": "execute_result"
    }
   ],
   "source": [
    "# change numpy 2d array to a dataframe\n",
    "\n",
    "unscaled_df = pd.DataFrame(scaler.inverse_transform(scaled), index = train.index, columns = ['bedrooms', 'bathrooms', 'area'])\n",
    "unscaled_df.head()"
   ]
  },
  {
   "cell_type": "code",
   "execution_count": null,
   "id": "174b6d0c",
   "metadata": {},
   "outputs": [],
   "source": []
  },
  {
   "cell_type": "markdown",
   "id": "40e2613f",
   "metadata": {},
   "source": [
    "3. Read the documentation for sklearn's QuantileTransformer. Use normal for the output_distribution and apply this scaler to your data. Visualize the result of your data scaling."
   ]
  },
  {
   "cell_type": "code",
   "execution_count": 47,
   "id": "b628d09c",
   "metadata": {
    "scrolled": false
   },
   "outputs": [
    {
     "data": {
      "image/png": "[encoded data removed]",
      "text/plain": [
       "<Figure size 864x432 with 3 Axes>"
      ]
     },
     "metadata": {
      "needs_background": "light"
     },
     "output_type": "display_data"
    }
   ],
   "source": [
    "# visualize bathroom quantile transformation with 'normal' output\n",
    "\n",
    "visualize_scaled_date(sklearn.preprocessing.QuantileTransformer(output_distribution='normal'), 'Quantile Scaler', 'bathrooms')"
   ]
  },
  {
   "cell_type": "code",
   "execution_count": 48,
   "id": "d4297c5d",
   "metadata": {
    "scrolled": false
   },
   "outputs": [
    {
     "data": {
      "image/png": "[encoded data removed]",
      "text/plain": [
       "<Figure size 864x432 with 3 Axes>"
      ]
     },
     "metadata": {
      "needs_background": "light"
     },
     "output_type": "display_data"
    }
   ],
   "source": [
    "# visualize scaling for bedrooms\n",
    "\n",
    "visualize_scaled_date(sklearn.preprocessing.MinMaxScaler(), 'Min Max Scaler', 'bedrooms')"
   ]
  },
  {
   "cell_type": "code",
   "execution_count": 49,
   "id": "ed603e2e",
   "metadata": {
    "scrolled": false
   },
   "outputs": [
    {
     "data": {
      "image/png": "[encoded data removed]",
      "text/plain": [
       "<Figure size 864x432 with 3 Axes>"
      ]
     },
     "metadata": {
      "needs_background": "light"
     },
     "output_type": "display_data"
    }
   ],
   "source": [
    "# visualize scaling for area\n",
    "\n",
    "visualize_scaled_date(sklearn.preprocessing.MinMaxScaler(), 'Min Max Scaler', 'area')"
   ]
  },
  {
   "cell_type": "markdown",
   "id": "07efcf20",
   "metadata": {},
   "source": [
    "4. Use the QuantileTransformer, but omit the output_distribution argument. Visualize your results. What do you notice?"
   ]
  },
  {
   "cell_type": "markdown",
   "id": "9db6a11f",
   "metadata": {},
   "source": [
    "Quantile bedrooms"
   ]
  },
  {
   "cell_type": "code",
   "execution_count": 31,
   "id": "913576b3",
   "metadata": {},
   "outputs": [],
   "source": [
    "# create\n",
    "\n",
    "qt_scaler = QuantileTransformer()\n",
    "\n",
    "# fit\n",
    "\n",
    "qt_scaler.fit(train[['bedrooms']])\n",
    "\n",
    "# transform and create columns\n",
    "\n",
    "train['bedrooms_qt'] = qt_scaler.transform(train[['bedrooms']])"
   ]
  },
  {
   "cell_type": "code",
   "execution_count": 32,
   "id": "bf4da4df",
   "metadata": {},
   "outputs": [
    {
     "data": {
      "text/plain": [
       "Text(0.5, 1.0, 'Scaled')"
      ]
     },
     "execution_count": 32,
     "metadata": {},
     "output_type": "execute_result"
    },
    {
     "data": {
      "image/png": "[encoded data removed]",
      "text/plain": [
       "<Figure size 936x432 with 2 Axes>"
      ]
     },
     "metadata": {
      "needs_background": "light"
     },
     "output_type": "display_data"
    }
   ],
   "source": [
    "plt.figure(figsize=(13, 6))\n",
    "plt.subplot(121)\n",
    "plt.hist(train.bedrooms, bins=25, ec='black')\n",
    "plt.title('Unscaled')\n",
    "plt.subplot(122)\n",
    "plt.hist(train.bedrooms_qt, bins=25, ec='black')\n",
    "plt.title('Scaled')"
   ]
  },
  {
   "cell_type": "markdown",
   "id": "e8a4f04f",
   "metadata": {},
   "source": [
    "Quantile bathrooms"
   ]
  },
  {
   "cell_type": "code",
   "execution_count": 33,
   "id": "f47d651e",
   "metadata": {},
   "outputs": [],
   "source": [
    "# create\n",
    "\n",
    "qt_scaler = QuantileTransformer()\n",
    "\n",
    "# fit\n",
    "\n",
    "qt_scaler.fit(train[['bathrooms']])\n",
    "\n",
    "# transform and create columns\n",
    "\n",
    "train['bathrooms_qt'] = qt_scaler.transform(train[['bathrooms']])"
   ]
  },
  {
   "cell_type": "code",
   "execution_count": 34,
   "id": "75288339",
   "metadata": {},
   "outputs": [
    {
     "data": {
      "text/plain": [
       "Text(0.5, 1.0, 'Scaled')"
      ]
     },
     "execution_count": 34,
     "metadata": {},
     "output_type": "execute_result"
    },
    {
     "data": {
      "image/png": "[encoded data removed]",
      "text/plain": [
       "<Figure size 936x432 with 2 Axes>"
      ]
     },
     "metadata": {
      "needs_background": "light"
     },
     "output_type": "display_data"
    }
   ],
   "source": [
    "plt.figure(figsize=(13, 6))\n",
    "plt.subplot(121)\n",
    "plt.hist(train.bathrooms, bins=25, ec='black')\n",
    "plt.title('Unscaled')\n",
    "plt.subplot(122)\n",
    "plt.hist(train.bathrooms_qt, bins=25, ec='black')\n",
    "plt.title('Scaled')"
   ]
  },
  {
   "cell_type": "markdown",
   "id": "7cf65ceb",
   "metadata": {},
   "source": [
    "Quantile area 'finished sqft'"
   ]
  },
  {
   "cell_type": "code",
   "execution_count": 35,
   "id": "4e787725",
   "metadata": {},
   "outputs": [],
   "source": [
    "# create\n",
    "\n",
    "qt_scaler = QuantileTransformer()\n",
    "\n",
    "# fit\n",
    "\n",
    "qt_scaler.fit(train[['area']])\n",
    "\n",
    "# transform and create columns\n",
    "\n",
    "train['area_qt'] = qt_scaler.transform(train[['area']])"
   ]
  },
  {
   "cell_type": "code",
   "execution_count": 36,
   "id": "1fc701b7",
   "metadata": {},
   "outputs": [
    {
     "data": {
      "text/plain": [
       "Text(0.5, 1.0, 'Scaled')"
      ]
     },
     "execution_count": 36,
     "metadata": {},
     "output_type": "execute_result"
    },
    {
     "data": {
      "image/png": "[encoded data removed]",
      "text/plain": [
       "<Figure size 936x432 with 2 Axes>"
      ]
     },
     "metadata": {
      "needs_background": "light"
     },
     "output_type": "display_data"
    }
   ],
   "source": [
    "plt.figure(figsize=(13, 6))\n",
    "plt.subplot(121)\n",
    "plt.hist(train.area, bins=25, ec='black')\n",
    "plt.title('Unscaled')\n",
    "plt.subplot(122)\n",
    "plt.hist(train.area_qt, bins=25, ec='black')\n",
    "plt.title('Scaled')"
   ]
  },
  {
   "cell_type": "code",
   "execution_count": null,
   "id": "1b6087f6",
   "metadata": {},
   "outputs": [],
   "source": []
  },
  {
   "cell_type": "markdown",
   "id": "efcc5c3d",
   "metadata": {},
   "source": [
    "5. Based on the work you've done, choose a scaling method for your dataset. Write a function within your prepare.py that accepts as input the train, validate, and test data splits, and returns the scaled versions of each. Be sure to only learn the parameters for scaling from your training data!"
   ]
  },
  {
   "cell_type": "code",
   "execution_count": 24,
   "id": "ead7dc9e",
   "metadata": {},
   "outputs": [],
   "source": [
    "def Standard_Scaler(X_train, X_validate, X_test):\n",
    "    \"\"\"\n",
    "    Takes in X_train, X_validate and X_test dfs with numeric values only\n",
    "    Returns scaler, X_train_scaled, X_validate_scaled, X_test_scaled dfs\n",
    "    \"\"\"\n",
    "\n",
    "    scaler = sklearn.preprocessing.StandardScaler().fit(X_train)\n",
    "    X_train_scaled = pd.DataFrame(scaler.transform(X_train), index = X_train.index, columns = X_train.columns)\n",
    "    X_validate_scaled = pd.DataFrame(scaler.transform(X_validate), index = X_validate.index, columns = X_validate.columns)\n",
    "    X_test_scaled = pd.DataFrame(scaler.transform(X_test), index = X_test.index, columns = X_test.columns)\n",
    "    \n",
    "    return scaler, X_train_scaled, X_validate_scaled, X_test_scaled"
   ]
  },
  {
   "cell_type": "code",
   "execution_count": 25,
   "id": "114a47d1",
   "metadata": {},
   "outputs": [],
   "source": [
    "def Min_Max_Scaler(X_train, X_validate, X_test):\n",
    "    \"\"\"\n",
    "    Takes in X_train, X_validate and X_test dfs with numeric values only\n",
    "    Returns scaler, X_train_scaled, X_validate_scaled, X_test_scaled dfs \n",
    "    \"\"\"\n",
    "    scaler = sklearn.preprocessing.MinMaxScaler().fit(X_train)\n",
    "    X_train_scaled = pd.DataFrame(scaler.transform(X_train), index = X_train.index, columns = X_train.columns)\n",
    "    X_validate_scaled = pd.DataFrame(scaler.transform(X_validate), index = X_validate.index, columns = X_validate.columns)\n",
    "    X_test_scaled = pd.DataFrame(scaler.transform(X_test), index = X_test.index, columns = X_test.columns)\n",
    "    \n",
    "    return scaler, X_train_scaled, X_validate_scaled, X_test_scaled"
   ]
  },
  {
   "cell_type": "code",
   "execution_count": 26,
   "id": "7008600f",
   "metadata": {},
   "outputs": [],
   "source": [
    "X_train = train[['bedrooms', 'bathrooms', 'area']]\n",
    "X_validate = test[['bedrooms', 'bathrooms', 'area']]\n",
    "X_test = test[['bedrooms', 'bathrooms', 'area']]"
   ]
  },
  {
   "cell_type": "code",
   "execution_count": 29,
   "id": "f204b6fc",
   "metadata": {},
   "outputs": [
    {
     "data": {
      "text/html": [
       "<div>\n",
       "<style scoped>\n",
       "    .dataframe tbody tr th:only-of-type {\n",
       "        vertical-align: middle;\n",
       "    }\n",
       "\n",
       "    .dataframe tbody tr th {\n",
       "        vertical-align: top;\n",
       "    }\n",
       "\n",
       "    .dataframe thead th {\n",
       "        text-align: right;\n",
       "    }\n",
       "</style>\n",
       "<table border=\"1\" class=\"dataframe\">\n",
       "  <thead>\n",
       "    <tr style=\"text-align: right;\">\n",
       "      <th></th>\n",
       "      <th>bedrooms</th>\n",
       "      <th>bathrooms</th>\n",
       "      <th>area</th>\n",
       "    </tr>\n",
       "  </thead>\n",
       "  <tbody>\n",
       "    <tr>\n",
       "      <th>10057</th>\n",
       "      <td>1.006335</td>\n",
       "      <td>-0.075812</td>\n",
       "      <td>-0.164324</td>\n",
       "    </tr>\n",
       "    <tr>\n",
       "      <th>2004970</th>\n",
       "      <td>-0.273995</td>\n",
       "      <td>-0.075812</td>\n",
       "      <td>0.206082</td>\n",
       "    </tr>\n",
       "    <tr>\n",
       "      <th>306031</th>\n",
       "      <td>-1.554325</td>\n",
       "      <td>-1.488563</td>\n",
       "      <td>-0.357501</td>\n",
       "    </tr>\n",
       "    <tr>\n",
       "      <th>1038595</th>\n",
       "      <td>-0.273995</td>\n",
       "      <td>-1.488563</td>\n",
       "      <td>-1.158569</td>\n",
       "    </tr>\n",
       "    <tr>\n",
       "      <th>270959</th>\n",
       "      <td>-0.273995</td>\n",
       "      <td>-0.075812</td>\n",
       "      <td>0.567625</td>\n",
       "    </tr>\n",
       "  </tbody>\n",
       "</table>\n",
       "</div>"
      ],
      "text/plain": [
       "         bedrooms  bathrooms      area\n",
       "10057    1.006335  -0.075812 -0.164324\n",
       "2004970 -0.273995  -0.075812  0.206082\n",
       "306031  -1.554325  -1.488563 -0.357501\n",
       "1038595 -0.273995  -1.488563 -1.158569\n",
       "270959  -0.273995  -0.075812  0.567625"
      ]
     },
     "execution_count": 29,
     "metadata": {},
     "output_type": "execute_result"
    }
   ],
   "source": [
    "# Use the Standard_Scaler Function defined above\n",
    "\n",
    "scaler, X_train_scaled, X_validate_scaled, X_test_scaled = Standard_Scaler(X_train, X_validate, X_test)\n",
    "\n",
    "X_train_scaled.head()"
   ]
  },
  {
   "cell_type": "code",
   "execution_count": null,
   "id": "8833880c",
   "metadata": {},
   "outputs": [],
   "source": []
  }
 ],
 "metadata": {
  "kernelspec": {
   "display_name": "Python 3",
   "language": "python",
   "name": "python3"
  },
  "language_info": {
   "codemirror_mode": {
    "name": "ipython",
    "version": 3
   },
   "file_extension": ".py",
   "mimetype": "text/x-python",
   "name": "python",
   "nbconvert_exporter": "python",
   "pygments_lexer": "ipython3",
   "version": "3.8.8"
  }
 },
 "nbformat": 4,
 "nbformat_minor": 5
}
