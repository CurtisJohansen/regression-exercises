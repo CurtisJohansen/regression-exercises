{
 "cells": [
  {
   "cell_type": "code",
   "execution_count": 130,
   "id": "29bb0294",
   "metadata": {},
   "outputs": [],
   "source": [
    "# Disable warnings\n",
    "import warnings\n",
    "warnings.filterwarnings(\"ignore\")\n",
    "\n",
    "import pandas as pd\n",
    "import numpy as np\n",
    "\n",
    "import seaborn as sns\n",
    "import matplotlib.pyplot as plt\n",
    "\n",
    "import math\n",
    "from math import sqrt\n",
    "from scipy import stats\n",
    "from statsmodels.formula.api import ols\n",
    "from sklearn.metrics import mean_squared_error, r2_score, explained_variance_score\n",
    "from sklearn.linear_model import LinearRegression\n",
    "from sklearn.feature_selection import f_regression \n",
    "from pydataset import data"
   ]
  },
  {
   "cell_type": "markdown",
   "id": "dca73c4d",
   "metadata": {},
   "source": [
    "# Evaluating Regression Models Exercises"
   ]
  },
  {
   "cell_type": "markdown",
   "id": "1dd6b9c9",
   "metadata": {},
   "source": [
    "1. Load the tips dataset from either pydataset or seaborn"
   ]
  },
  {
   "cell_type": "code",
   "execution_count": 4,
   "id": "7b5b8c9a",
   "metadata": {},
   "outputs": [],
   "source": [
    "tips = sns.load_dataset(\"tips\")"
   ]
  },
  {
   "cell_type": "code",
   "execution_count": 5,
   "id": "57ebb502",
   "metadata": {},
   "outputs": [
    {
     "data": {
      "text/html": [
       "<div>\n",
       "<style scoped>\n",
       "    .dataframe tbody tr th:only-of-type {\n",
       "        vertical-align: middle;\n",
       "    }\n",
       "\n",
       "    .dataframe tbody tr th {\n",
       "        vertical-align: top;\n",
       "    }\n",
       "\n",
       "    .dataframe thead th {\n",
       "        text-align: right;\n",
       "    }\n",
       "</style>\n",
       "<table border=\"1\" class=\"dataframe\">\n",
       "  <thead>\n",
       "    <tr style=\"text-align: right;\">\n",
       "      <th></th>\n",
       "      <th>total_bill</th>\n",
       "      <th>tip</th>\n",
       "      <th>sex</th>\n",
       "      <th>smoker</th>\n",
       "      <th>day</th>\n",
       "      <th>time</th>\n",
       "      <th>size</th>\n",
       "    </tr>\n",
       "  </thead>\n",
       "  <tbody>\n",
       "    <tr>\n",
       "      <th>0</th>\n",
       "      <td>16.99</td>\n",
       "      <td>1.01</td>\n",
       "      <td>Female</td>\n",
       "      <td>No</td>\n",
       "      <td>Sun</td>\n",
       "      <td>Dinner</td>\n",
       "      <td>2</td>\n",
       "    </tr>\n",
       "    <tr>\n",
       "      <th>1</th>\n",
       "      <td>10.34</td>\n",
       "      <td>1.66</td>\n",
       "      <td>Male</td>\n",
       "      <td>No</td>\n",
       "      <td>Sun</td>\n",
       "      <td>Dinner</td>\n",
       "      <td>3</td>\n",
       "    </tr>\n",
       "    <tr>\n",
       "      <th>2</th>\n",
       "      <td>21.01</td>\n",
       "      <td>3.50</td>\n",
       "      <td>Male</td>\n",
       "      <td>No</td>\n",
       "      <td>Sun</td>\n",
       "      <td>Dinner</td>\n",
       "      <td>3</td>\n",
       "    </tr>\n",
       "    <tr>\n",
       "      <th>3</th>\n",
       "      <td>23.68</td>\n",
       "      <td>3.31</td>\n",
       "      <td>Male</td>\n",
       "      <td>No</td>\n",
       "      <td>Sun</td>\n",
       "      <td>Dinner</td>\n",
       "      <td>2</td>\n",
       "    </tr>\n",
       "    <tr>\n",
       "      <th>4</th>\n",
       "      <td>24.59</td>\n",
       "      <td>3.61</td>\n",
       "      <td>Female</td>\n",
       "      <td>No</td>\n",
       "      <td>Sun</td>\n",
       "      <td>Dinner</td>\n",
       "      <td>4</td>\n",
       "    </tr>\n",
       "  </tbody>\n",
       "</table>\n",
       "</div>"
      ],
      "text/plain": [
       "   total_bill   tip     sex smoker  day    time  size\n",
       "0       16.99  1.01  Female     No  Sun  Dinner     2\n",
       "1       10.34  1.66    Male     No  Sun  Dinner     3\n",
       "2       21.01  3.50    Male     No  Sun  Dinner     3\n",
       "3       23.68  3.31    Male     No  Sun  Dinner     2\n",
       "4       24.59  3.61  Female     No  Sun  Dinner     4"
      ]
     },
     "execution_count": 5,
     "metadata": {},
     "output_type": "execute_result"
    }
   ],
   "source": [
    "tips.head()"
   ]
  },
  {
   "cell_type": "code",
   "execution_count": null,
   "id": "3bcf0895",
   "metadata": {},
   "outputs": [],
   "source": []
  },
  {
   "cell_type": "markdown",
   "id": "f52f5d56",
   "metadata": {},
   "source": [
    "2. Fit a linear regression model (ordinary least squares) and compute yhat, predictions of tip using total_bill.\n",
    "\n",
    "        Here is some sample code to get you started:\n",
    "    \n",
    "            from sklearn.linear_model import LinearRegression\n",
    "    \n",
    "         ### assuming X and y are already defined ###\n",
    "    \n",
    "            model = LinearRegression().fit(X, y)\n",
    "    \n",
    "            predictions = model.predict(X)\n",
    "    \n",
    "            Modify and add to the code above as necessary for it to work with the tips dataset."
   ]
  },
  {
   "cell_type": "code",
   "execution_count": 6,
   "id": "536d2883",
   "metadata": {},
   "outputs": [],
   "source": [
    "# create a baseline column, our baseline is the average of our y target\n",
    "\n",
    "tips['baseline'] = tips.tip.mean()"
   ]
  },
  {
   "cell_type": "code",
   "execution_count": 7,
   "id": "916a6ce3",
   "metadata": {},
   "outputs": [],
   "source": [
    "# create our linear regression model and fit it\n",
    "\n",
    "model = LinearRegression().fit(tips[['total_bill']], tips[['tip']])"
   ]
  },
  {
   "cell_type": "code",
   "execution_count": 8,
   "id": "66ae27e0",
   "metadata": {},
   "outputs": [],
   "source": [
    "# create our prediction column (prediction of tips)\\\n",
    "\n",
    "tips['yhat'] = model.predict(tips[['total_bill']])"
   ]
  },
  {
   "cell_type": "code",
   "execution_count": null,
   "id": "03c3c87f",
   "metadata": {},
   "outputs": [],
   "source": []
  },
  {
   "cell_type": "code",
   "execution_count": 9,
   "id": "a9e20f5e",
   "metadata": {},
   "outputs": [
    {
     "data": {
      "text/html": [
       "<div>\n",
       "<style scoped>\n",
       "    .dataframe tbody tr th:only-of-type {\n",
       "        vertical-align: middle;\n",
       "    }\n",
       "\n",
       "    .dataframe tbody tr th {\n",
       "        vertical-align: top;\n",
       "    }\n",
       "\n",
       "    .dataframe thead th {\n",
       "        text-align: right;\n",
       "    }\n",
       "</style>\n",
       "<table border=\"1\" class=\"dataframe\">\n",
       "  <thead>\n",
       "    <tr style=\"text-align: right;\">\n",
       "      <th></th>\n",
       "      <th>total_bill</th>\n",
       "      <th>tip</th>\n",
       "      <th>sex</th>\n",
       "      <th>smoker</th>\n",
       "      <th>day</th>\n",
       "      <th>time</th>\n",
       "      <th>size</th>\n",
       "      <th>baseline</th>\n",
       "      <th>yhat</th>\n",
       "    </tr>\n",
       "  </thead>\n",
       "  <tbody>\n",
       "    <tr>\n",
       "      <th>0</th>\n",
       "      <td>16.99</td>\n",
       "      <td>1.01</td>\n",
       "      <td>Female</td>\n",
       "      <td>No</td>\n",
       "      <td>Sun</td>\n",
       "      <td>Dinner</td>\n",
       "      <td>2</td>\n",
       "      <td>2.998279</td>\n",
       "      <td>2.704636</td>\n",
       "    </tr>\n",
       "    <tr>\n",
       "      <th>1</th>\n",
       "      <td>10.34</td>\n",
       "      <td>1.66</td>\n",
       "      <td>Male</td>\n",
       "      <td>No</td>\n",
       "      <td>Sun</td>\n",
       "      <td>Dinner</td>\n",
       "      <td>3</td>\n",
       "      <td>2.998279</td>\n",
       "      <td>2.006223</td>\n",
       "    </tr>\n",
       "    <tr>\n",
       "      <th>2</th>\n",
       "      <td>21.01</td>\n",
       "      <td>3.50</td>\n",
       "      <td>Male</td>\n",
       "      <td>No</td>\n",
       "      <td>Sun</td>\n",
       "      <td>Dinner</td>\n",
       "      <td>3</td>\n",
       "      <td>2.998279</td>\n",
       "      <td>3.126835</td>\n",
       "    </tr>\n",
       "    <tr>\n",
       "      <th>3</th>\n",
       "      <td>23.68</td>\n",
       "      <td>3.31</td>\n",
       "      <td>Male</td>\n",
       "      <td>No</td>\n",
       "      <td>Sun</td>\n",
       "      <td>Dinner</td>\n",
       "      <td>2</td>\n",
       "      <td>2.998279</td>\n",
       "      <td>3.407250</td>\n",
       "    </tr>\n",
       "    <tr>\n",
       "      <th>4</th>\n",
       "      <td>24.59</td>\n",
       "      <td>3.61</td>\n",
       "      <td>Female</td>\n",
       "      <td>No</td>\n",
       "      <td>Sun</td>\n",
       "      <td>Dinner</td>\n",
       "      <td>4</td>\n",
       "      <td>2.998279</td>\n",
       "      <td>3.502822</td>\n",
       "    </tr>\n",
       "  </tbody>\n",
       "</table>\n",
       "</div>"
      ],
      "text/plain": [
       "   total_bill   tip     sex smoker  day    time  size  baseline      yhat\n",
       "0       16.99  1.01  Female     No  Sun  Dinner     2  2.998279  2.704636\n",
       "1       10.34  1.66    Male     No  Sun  Dinner     3  2.998279  2.006223\n",
       "2       21.01  3.50    Male     No  Sun  Dinner     3  2.998279  3.126835\n",
       "3       23.68  3.31    Male     No  Sun  Dinner     2  2.998279  3.407250\n",
       "4       24.59  3.61  Female     No  Sun  Dinner     4  2.998279  3.502822"
      ]
     },
     "execution_count": 9,
     "metadata": {},
     "output_type": "execute_result"
    }
   ],
   "source": [
    "tips.head()"
   ]
  },
  {
   "cell_type": "code",
   "execution_count": null,
   "id": "dece97fe",
   "metadata": {},
   "outputs": [],
   "source": []
  },
  {
   "cell_type": "markdown",
   "id": "1beea573",
   "metadata": {},
   "source": [
    "3. Plot the residuals for the linear regression model that you made."
   ]
  },
  {
   "cell_type": "code",
   "execution_count": 10,
   "id": "6587a055",
   "metadata": {},
   "outputs": [],
   "source": [
    "# create a residual column\n",
    "\n",
    "tips['residual'] = tips['yhat'] - tips['tip']"
   ]
  },
  {
   "cell_type": "code",
   "execution_count": 11,
   "id": "16b85e4e",
   "metadata": {},
   "outputs": [],
   "source": [
    "# create a residual baseline column\n",
    "\n",
    "tips['residual_baseline'] = tips['baseline'] - tips['tip']"
   ]
  },
  {
   "cell_type": "code",
   "execution_count": 12,
   "id": "b74f92b5",
   "metadata": {},
   "outputs": [
    {
     "data": {
      "text/html": [
       "<div>\n",
       "<style scoped>\n",
       "    .dataframe tbody tr th:only-of-type {\n",
       "        vertical-align: middle;\n",
       "    }\n",
       "\n",
       "    .dataframe tbody tr th {\n",
       "        vertical-align: top;\n",
       "    }\n",
       "\n",
       "    .dataframe thead th {\n",
       "        text-align: right;\n",
       "    }\n",
       "</style>\n",
       "<table border=\"1\" class=\"dataframe\">\n",
       "  <thead>\n",
       "    <tr style=\"text-align: right;\">\n",
       "      <th></th>\n",
       "      <th>total_bill</th>\n",
       "      <th>tip</th>\n",
       "      <th>sex</th>\n",
       "      <th>smoker</th>\n",
       "      <th>day</th>\n",
       "      <th>time</th>\n",
       "      <th>size</th>\n",
       "      <th>baseline</th>\n",
       "      <th>yhat</th>\n",
       "      <th>residual</th>\n",
       "      <th>residual_baseline</th>\n",
       "    </tr>\n",
       "  </thead>\n",
       "  <tbody>\n",
       "    <tr>\n",
       "      <th>0</th>\n",
       "      <td>16.99</td>\n",
       "      <td>1.01</td>\n",
       "      <td>Female</td>\n",
       "      <td>No</td>\n",
       "      <td>Sun</td>\n",
       "      <td>Dinner</td>\n",
       "      <td>2</td>\n",
       "      <td>2.998279</td>\n",
       "      <td>2.704636</td>\n",
       "      <td>1.694636</td>\n",
       "      <td>1.988279</td>\n",
       "    </tr>\n",
       "    <tr>\n",
       "      <th>1</th>\n",
       "      <td>10.34</td>\n",
       "      <td>1.66</td>\n",
       "      <td>Male</td>\n",
       "      <td>No</td>\n",
       "      <td>Sun</td>\n",
       "      <td>Dinner</td>\n",
       "      <td>3</td>\n",
       "      <td>2.998279</td>\n",
       "      <td>2.006223</td>\n",
       "      <td>0.346223</td>\n",
       "      <td>1.338279</td>\n",
       "    </tr>\n",
       "    <tr>\n",
       "      <th>2</th>\n",
       "      <td>21.01</td>\n",
       "      <td>3.50</td>\n",
       "      <td>Male</td>\n",
       "      <td>No</td>\n",
       "      <td>Sun</td>\n",
       "      <td>Dinner</td>\n",
       "      <td>3</td>\n",
       "      <td>2.998279</td>\n",
       "      <td>3.126835</td>\n",
       "      <td>-0.373165</td>\n",
       "      <td>-0.501721</td>\n",
       "    </tr>\n",
       "    <tr>\n",
       "      <th>3</th>\n",
       "      <td>23.68</td>\n",
       "      <td>3.31</td>\n",
       "      <td>Male</td>\n",
       "      <td>No</td>\n",
       "      <td>Sun</td>\n",
       "      <td>Dinner</td>\n",
       "      <td>2</td>\n",
       "      <td>2.998279</td>\n",
       "      <td>3.407250</td>\n",
       "      <td>0.097250</td>\n",
       "      <td>-0.311721</td>\n",
       "    </tr>\n",
       "    <tr>\n",
       "      <th>4</th>\n",
       "      <td>24.59</td>\n",
       "      <td>3.61</td>\n",
       "      <td>Female</td>\n",
       "      <td>No</td>\n",
       "      <td>Sun</td>\n",
       "      <td>Dinner</td>\n",
       "      <td>4</td>\n",
       "      <td>2.998279</td>\n",
       "      <td>3.502822</td>\n",
       "      <td>-0.107178</td>\n",
       "      <td>-0.611721</td>\n",
       "    </tr>\n",
       "  </tbody>\n",
       "</table>\n",
       "</div>"
      ],
      "text/plain": [
       "   total_bill   tip     sex smoker  day    time  size  baseline      yhat  \\\n",
       "0       16.99  1.01  Female     No  Sun  Dinner     2  2.998279  2.704636   \n",
       "1       10.34  1.66    Male     No  Sun  Dinner     3  2.998279  2.006223   \n",
       "2       21.01  3.50    Male     No  Sun  Dinner     3  2.998279  3.126835   \n",
       "3       23.68  3.31    Male     No  Sun  Dinner     2  2.998279  3.407250   \n",
       "4       24.59  3.61  Female     No  Sun  Dinner     4  2.998279  3.502822   \n",
       "\n",
       "   residual  residual_baseline  \n",
       "0  1.694636           1.988279  \n",
       "1  0.346223           1.338279  \n",
       "2 -0.373165          -0.501721  \n",
       "3  0.097250          -0.311721  \n",
       "4 -0.107178          -0.611721  "
      ]
     },
     "execution_count": 12,
     "metadata": {},
     "output_type": "execute_result"
    }
   ],
   "source": [
    "tips.head()"
   ]
  },
  {
   "cell_type": "code",
   "execution_count": 13,
   "id": "5b9f5b68",
   "metadata": {},
   "outputs": [
    {
     "data": {
      "image/png": "[encoded data removed]",
      "text/plain": [
       "<Figure size 864x504 with 1 Axes>"
      ]
     },
     "metadata": {
      "needs_background": "light"
     },
     "output_type": "display_data"
    }
   ],
   "source": [
    "# plot residuals\n",
    "\n",
    "plt.figure(figsize=(12,7))\n",
    "tips.residual.plot.hist()\n",
    "plt.title('Residuals')\n",
    "plt.show()"
   ]
  },
  {
   "cell_type": "code",
   "execution_count": 14,
   "id": "045a5b87",
   "metadata": {},
   "outputs": [
    {
     "data": {
      "image/png": "[encoded data removed]",
      "text/plain": [
       "<Figure size 864x504 with 1 Axes>"
      ]
     },
     "metadata": {
      "needs_background": "light"
     },
     "output_type": "display_data"
    }
   ],
   "source": [
    "# plot baseline residuals\n",
    "\n",
    "plt.figure(figsize=(12,7))\n",
    "tips.residual_baseline.plot.hist()\n",
    "plt.title('Baseline Residuals')\n",
    "plt.show()"
   ]
  },
  {
   "cell_type": "code",
   "execution_count": 15,
   "id": "eda6b0b5",
   "metadata": {},
   "outputs": [
    {
     "data": {
      "image/png": "[encoded data removed]",
      "text/plain": [
       "<Figure size 936x504 with 1 Axes>"
      ]
     },
     "metadata": {
      "needs_background": "light"
     },
     "output_type": "display_data"
    }
   ],
   "source": [
    "fig, ax = plt.subplots(figsize=(13,7))\n",
    "\n",
    "ax.hist(tips.residual_baseline, label = 'baseline residuals', alpha = .6) # alpha = transparancy\n",
    "ax.hist(tips.residual, label = 'model residuals', alpha = .6)\n",
    "ax.legend()\n",
    "\n",
    "plt.show()"
   ]
  },
  {
   "cell_type": "code",
   "execution_count": 19,
   "id": "de713cbd",
   "metadata": {},
   "outputs": [
    {
     "data": {
      "text/plain": [
       "[<matplotlib.lines.Line2D at 0x7fa570076d60>]"
      ]
     },
     "execution_count": 19,
     "metadata": {},
     "output_type": "execute_result"
    },
    {
     "data": {
      "image/png": "[encoded data removed]",
      "text/plain": [
       "<Figure size 936x504 with 1 Axes>"
      ]
     },
     "metadata": {
      "needs_background": "light"
     },
     "output_type": "display_data"
    }
   ],
   "source": [
    "fig, ax = plt.subplots(figsize=(13, 7))\n",
    "ax.scatter(tips.tip, tips.yhat, label='predicted')\n",
    "ax.set(title='Actual vs Predicted Value', ylabel='Prediction', xlabel='Actual')\n",
    "ax.plot(tips.tip, tips.tip, ls=':', c='gray')"
   ]
  },
  {
   "cell_type": "code",
   "execution_count": 23,
   "id": "a4c15442",
   "metadata": {},
   "outputs": [
    {
     "data": {
      "text/plain": [
       "<matplotlib.collections.LineCollection at 0x7fa5b0e98460>"
      ]
     },
     "execution_count": 23,
     "metadata": {},
     "output_type": "execute_result"
    },
    {
     "data": {
      "image/png": "[encoded data removed]",
      "text/plain": [
       "<Figure size 936x504 with 1 Axes>"
      ]
     },
     "metadata": {
      "needs_background": "light"
     },
     "output_type": "display_data"
    }
   ],
   "source": [
    "fig, ax = plt.subplots(figsize=(13, 7))\n",
    "\n",
    "ax.scatter(tips.tip, tips.residual)\n",
    "ax.set(title='Actual vs Residual Value',ylabel='Residual', xlabel='Actual')\n",
    "ax.hlines(0, *ax.get_xlim(), ls=':', color='gray')"
   ]
  },
  {
   "cell_type": "code",
   "execution_count": null,
   "id": "081a1578",
   "metadata": {},
   "outputs": [],
   "source": []
  },
  {
   "cell_type": "markdown",
   "id": "12aed610",
   "metadata": {},
   "source": [
    "4. Calculate the sum of squared errors, explained sum of squares, total sum of squares, mean squared error, and root mean squared error for your model"
   ]
  },
  {
   "cell_type": "markdown",
   "id": "cd29b0d2",
   "metadata": {},
   "source": [
    "Combined answers question 4 and 5"
   ]
  },
  {
   "cell_type": "markdown",
   "id": "bd57e19a",
   "metadata": {},
   "source": [
    "5. Calculate the sum of squared errors, mean squared error, and root mean squared error for the baseline model (i.e. a model that always predicts the average tip amount)."
   ]
  },
  {
   "cell_type": "code",
   "execution_count": 87,
   "id": "57bf08b2",
   "metadata": {},
   "outputs": [],
   "source": [
    "# sum of squared errors (SSE) aka residual sum of squares (RSS)\n",
    "\n",
    "# first create a column for residual^2\n",
    "\n",
    "tips['residual^2'] = tips.residual ** 2\n",
    "\n",
    "# then create a column for residual_baseline^2\n",
    "\n",
    "tips['residual_baseline^2'] = tips.residual_baseline ** 2"
   ]
  },
  {
   "cell_type": "code",
   "execution_count": 49,
   "id": "caf07115",
   "metadata": {},
   "outputs": [
    {
     "data": {
      "text/html": [
       "<div>\n",
       "<style scoped>\n",
       "    .dataframe tbody tr th:only-of-type {\n",
       "        vertical-align: middle;\n",
       "    }\n",
       "\n",
       "    .dataframe tbody tr th {\n",
       "        vertical-align: top;\n",
       "    }\n",
       "\n",
       "    .dataframe thead th {\n",
       "        text-align: right;\n",
       "    }\n",
       "</style>\n",
       "<table border=\"1\" class=\"dataframe\">\n",
       "  <thead>\n",
       "    <tr style=\"text-align: right;\">\n",
       "      <th></th>\n",
       "      <th>total_bill</th>\n",
       "      <th>tip</th>\n",
       "      <th>sex</th>\n",
       "      <th>smoker</th>\n",
       "      <th>day</th>\n",
       "      <th>time</th>\n",
       "      <th>size</th>\n",
       "      <th>baseline</th>\n",
       "      <th>yhat</th>\n",
       "      <th>residual</th>\n",
       "      <th>residual_baseline</th>\n",
       "      <th>residual^2</th>\n",
       "      <th>residual_baseline^2</th>\n",
       "    </tr>\n",
       "  </thead>\n",
       "  <tbody>\n",
       "    <tr>\n",
       "      <th>0</th>\n",
       "      <td>16.99</td>\n",
       "      <td>1.01</td>\n",
       "      <td>Female</td>\n",
       "      <td>No</td>\n",
       "      <td>Sun</td>\n",
       "      <td>Dinner</td>\n",
       "      <td>2</td>\n",
       "      <td>2.998279</td>\n",
       "      <td>2.704636</td>\n",
       "      <td>1.694636</td>\n",
       "      <td>1.988279</td>\n",
       "      <td>2.871792</td>\n",
       "      <td>3.953252</td>\n",
       "    </tr>\n",
       "    <tr>\n",
       "      <th>1</th>\n",
       "      <td>10.34</td>\n",
       "      <td>1.66</td>\n",
       "      <td>Male</td>\n",
       "      <td>No</td>\n",
       "      <td>Sun</td>\n",
       "      <td>Dinner</td>\n",
       "      <td>3</td>\n",
       "      <td>2.998279</td>\n",
       "      <td>2.006223</td>\n",
       "      <td>0.346223</td>\n",
       "      <td>1.338279</td>\n",
       "      <td>0.119870</td>\n",
       "      <td>1.790990</td>\n",
       "    </tr>\n",
       "    <tr>\n",
       "      <th>2</th>\n",
       "      <td>21.01</td>\n",
       "      <td>3.50</td>\n",
       "      <td>Male</td>\n",
       "      <td>No</td>\n",
       "      <td>Sun</td>\n",
       "      <td>Dinner</td>\n",
       "      <td>3</td>\n",
       "      <td>2.998279</td>\n",
       "      <td>3.126835</td>\n",
       "      <td>-0.373165</td>\n",
       "      <td>-0.501721</td>\n",
       "      <td>0.139252</td>\n",
       "      <td>0.251724</td>\n",
       "    </tr>\n",
       "    <tr>\n",
       "      <th>3</th>\n",
       "      <td>23.68</td>\n",
       "      <td>3.31</td>\n",
       "      <td>Male</td>\n",
       "      <td>No</td>\n",
       "      <td>Sun</td>\n",
       "      <td>Dinner</td>\n",
       "      <td>2</td>\n",
       "      <td>2.998279</td>\n",
       "      <td>3.407250</td>\n",
       "      <td>0.097250</td>\n",
       "      <td>-0.311721</td>\n",
       "      <td>0.009458</td>\n",
       "      <td>0.097170</td>\n",
       "    </tr>\n",
       "    <tr>\n",
       "      <th>4</th>\n",
       "      <td>24.59</td>\n",
       "      <td>3.61</td>\n",
       "      <td>Female</td>\n",
       "      <td>No</td>\n",
       "      <td>Sun</td>\n",
       "      <td>Dinner</td>\n",
       "      <td>4</td>\n",
       "      <td>2.998279</td>\n",
       "      <td>3.502822</td>\n",
       "      <td>-0.107178</td>\n",
       "      <td>-0.611721</td>\n",
       "      <td>0.011487</td>\n",
       "      <td>0.374203</td>\n",
       "    </tr>\n",
       "  </tbody>\n",
       "</table>\n",
       "</div>"
      ],
      "text/plain": [
       "   total_bill   tip     sex smoker  day    time  size  baseline      yhat  \\\n",
       "0       16.99  1.01  Female     No  Sun  Dinner     2  2.998279  2.704636   \n",
       "1       10.34  1.66    Male     No  Sun  Dinner     3  2.998279  2.006223   \n",
       "2       21.01  3.50    Male     No  Sun  Dinner     3  2.998279  3.126835   \n",
       "3       23.68  3.31    Male     No  Sun  Dinner     2  2.998279  3.407250   \n",
       "4       24.59  3.61  Female     No  Sun  Dinner     4  2.998279  3.502822   \n",
       "\n",
       "   residual  residual_baseline  residual^2  residual_baseline^2  \n",
       "0  1.694636           1.988279    2.871792             3.953252  \n",
       "1  0.346223           1.338279    0.119870             1.790990  \n",
       "2 -0.373165          -0.501721    0.139252             0.251724  \n",
       "3  0.097250          -0.311721    0.009458             0.097170  \n",
       "4 -0.107178          -0.611721    0.011487             0.374203  "
      ]
     },
     "execution_count": 49,
     "metadata": {},
     "output_type": "execute_result"
    }
   ],
   "source": [
    "tips.head()"
   ]
  },
  {
   "cell_type": "code",
   "execution_count": 50,
   "id": "cf82fbd2",
   "metadata": {},
   "outputs": [
    {
     "name": "stdout",
     "output_type": "stream",
     "text": [
      "SSE =  252.78874385077597\n",
      "SSE - baseline =  465.21247704918085\n"
     ]
    }
   ],
   "source": [
    "# now to SSE\n",
    "\n",
    "SSE = sum(tips['residual^2'])\n",
    "\n",
    "SSE_baseline = sum(tips['residual_baseline^2'])\n",
    "\n",
    "print(\"SSE = \", SSE)\n",
    "print(\"SSE - baseline = \", SSE_baseline)"
   ]
  },
  {
   "cell_type": "markdown",
   "id": "4893f52a",
   "metadata": {},
   "source": [
    "we see our model is performing better than our baseline"
   ]
  },
  {
   "cell_type": "code",
   "execution_count": 51,
   "id": "ea47fc2e",
   "metadata": {},
   "outputs": [
    {
     "name": "stdout",
     "output_type": "stream",
     "text": [
      "MSE =  1.0360194420113769\n",
      "MSE baseline =  1.9066085124966428\n"
     ]
    }
   ],
   "source": [
    "# compute Mean Squared Error (MSE) by using SSE\n",
    "\n",
    "MSE = SSE/len(tips)\n",
    "\n",
    "MSE_baseline = SSE_baseline/len(tips)\n",
    "\n",
    "print(\"MSE = \", MSE)\n",
    "print(\"MSE baseline = \", MSE_baseline)"
   ]
  },
  {
   "cell_type": "markdown",
   "id": "08d13ade",
   "metadata": {},
   "source": [
    "model is performing slightly better than the baseline"
   ]
  },
  {
   "cell_type": "code",
   "execution_count": 72,
   "id": "3087f2ec",
   "metadata": {},
   "outputs": [
    {
     "name": "stdout",
     "output_type": "stream",
     "text": [
      "RMSE =  1.0178504025697377\n",
      "RMSE baseline =  1.3807999538298958\n"
     ]
    }
   ],
   "source": [
    "# compute Room Mean Squared Error (RMSE)\n",
    "\n",
    "RMSE = sqrt(MSE)\n",
    "\n",
    "RMSE_baseline = sqrt(MSE_baseline)\n",
    "\n",
    "print(\"RMSE = \", RMSE)\n",
    "print(\"RMSE baseline = \", RMSE_baseline)"
   ]
  },
  {
   "cell_type": "markdown",
   "id": "711781d4",
   "metadata": {},
   "source": [
    "- model is off by 1.02 while the baseline is off by 1.38. \n",
    "- model is still performing better than having no model"
   ]
  },
  {
   "cell_type": "code",
   "execution_count": 77,
   "id": "5fc3db82",
   "metadata": {},
   "outputs": [
    {
     "name": "stdout",
     "output_type": "stream",
     "text": [
      "ESS =  212.42373319840416\n",
      "TSS =  465.21247704918085\n"
     ]
    }
   ],
   "source": [
    "# compute explained sum of squares and total sum of squares\n",
    "\n",
    "ESS = sum((tips.yhat - tips.tip.mean())**2)\n",
    "TSS = sum((tips.tip - tips.tip.mean())**2)\n",
    "\n",
    "print(\"ESS = \", ESS)\n",
    "print(\"TSS = \", TSS)"
   ]
  },
  {
   "cell_type": "code",
   "execution_count": 78,
   "id": "4cb2a69f",
   "metadata": {},
   "outputs": [
    {
     "data": {
      "text/plain": [
       "0.45661658635167557"
      ]
     },
     "execution_count": 78,
     "metadata": {},
     "output_type": "execute_result"
    }
   ],
   "source": [
    "# compute explained variance\n",
    "\n",
    "R2 = ESS / TSS\n",
    "R2"
   ]
  },
  {
   "cell_type": "code",
   "execution_count": 79,
   "id": "b7932e11",
   "metadata": {},
   "outputs": [
    {
     "name": "stdout",
     "output_type": "stream",
     "text": [
      "Explained Variance =  0.457\n"
     ]
    }
   ],
   "source": [
    "# using sklearn to do the above\n",
    "\n",
    "evs = explained_variance_score(tips.tip, tips.yhat)\n",
    "print('Explained Variance = ', round(evs,3))"
   ]
  },
  {
   "cell_type": "code",
   "execution_count": 88,
   "id": "677ba1b2",
   "metadata": {},
   "outputs": [
    {
     "name": "stdout",
     "output_type": "stream",
     "text": [
      "ess: 0.0000\n"
     ]
    },
    {
     "data": {
      "text/plain": [
       "0.0"
      ]
     },
     "execution_count": 88,
     "metadata": {},
     "output_type": "execute_result"
    }
   ],
   "source": [
    "# comparing to baseline\n",
    "\n",
    "ess = sum((tips.baseline - tips.tip.mean())**2)\n",
    "tss = sum((tips.tip - tips.tip.mean())**2)\n",
    "\n",
    "print('ess: %.4f' % ess)\n",
    "\n",
    "ess / tss"
   ]
  },
  {
   "cell_type": "code",
   "execution_count": 92,
   "id": "01b16c54",
   "metadata": {},
   "outputs": [
    {
     "data": {
      "text/plain": [
       "1.1102230246251565e-16"
      ]
     },
     "execution_count": 92,
     "metadata": {},
     "output_type": "execute_result"
    }
   ],
   "source": [
    "# baseline score - done with import\n",
    "\n",
    "r2_score(tips.tip, tips.baseline)"
   ]
  },
  {
   "cell_type": "markdown",
   "id": "85323b3f",
   "metadata": {},
   "source": [
    "sklearn methods to compute all the above"
   ]
  },
  {
   "cell_type": "code",
   "execution_count": 81,
   "id": "bb7c729d",
   "metadata": {},
   "outputs": [
    {
     "name": "stdout",
     "output_type": "stream",
     "text": [
      "SSE manual == SSE sklearn:  False\n",
      "SSE manual - baseline == SSE sklearn - baseline:  False\n"
     ]
    }
   ],
   "source": [
    "# SSE method comparison to manual \n",
    "\n",
    "SSE2 = mean_squared_error(tips.tip, tips.yhat)*len(tips)\n",
    "SSE2_baseline = mean_squared_error(tips.tip, tips.baseline)*len(tips)\n",
    "\n",
    "print(\"SSE manual == SSE sklearn: \", SSE == SSE2) \n",
    "print(\"SSE manual - baseline == SSE sklearn - baseline: \", SSE_baseline == SSE2_baseline)"
   ]
  },
  {
   "cell_type": "code",
   "execution_count": 82,
   "id": "dbd8f535",
   "metadata": {},
   "outputs": [
    {
     "name": "stdout",
     "output_type": "stream",
     "text": [
      "MSE manual == MSE sklearn:  False\n",
      "MSE manual - baseline == MSE sklearn - baseline:  False\n"
     ]
    }
   ],
   "source": [
    "MSE2 = mean_squared_error(tips.tip, tips.yhat)*len(tips)\n",
    "MSE2_baseline = mean_squared_error(tips.tip, tips.baseline)*len(tips)\n",
    "\n",
    "print(\"MSE manual == MSE sklearn: \", MSE == MSE2) \n",
    "print(\"MSE manual - baseline == MSE sklearn - baseline: \", MSE_baseline == MSE2_baseline)"
   ]
  },
  {
   "cell_type": "code",
   "execution_count": 83,
   "id": "c02b9cdd",
   "metadata": {},
   "outputs": [
    {
     "name": "stdout",
     "output_type": "stream",
     "text": [
      "RMSE manual == RMSE skearn:  True\n",
      "RMSE manual - baseline == RMSE skearn - baseline:  False\n"
     ]
    }
   ],
   "source": [
    "RMSE2 = sqrt(mean_squared_error(tips.tip, tips.yhat))\n",
    "RMSE2_baseline = sqrt(mean_squared_error(tips.tip, tips.baseline))\n",
    "\n",
    "print(\"RMSE manual == RMSE skearn: \", RMSE == RMSE2) \n",
    "print(\"RMSE manual - baseline == RMSE skearn - baseline: \", RMSE_baseline == RMSE2_baseline)\n"
   ]
  },
  {
   "cell_type": "code",
   "execution_count": null,
   "id": "5a970058",
   "metadata": {},
   "outputs": [],
   "source": []
  },
  {
   "cell_type": "markdown",
   "id": "c1a0e4c8",
   "metadata": {},
   "source": [
    "6. Write python code that compares the sum of squared errors for your model against the sum of squared errors for the baseline model and outputs whether or not your model performs better than the baseline model."
   ]
  },
  {
   "cell_type": "code",
   "execution_count": 94,
   "id": "ad26043e",
   "metadata": {},
   "outputs": [
    {
     "name": "stdout",
     "output_type": "stream",
     "text": [
      "Our model performs better than the SSE_baseline\n"
     ]
    }
   ],
   "source": [
    "if SSE < SSE_baseline:\n",
    "    print('Our model performs better than the SSE_baseline')\n",
    "else:\n",
    "    print('The SSE_baseline performs better than our model')"
   ]
  },
  {
   "cell_type": "code",
   "execution_count": null,
   "id": "d538c1d8",
   "metadata": {},
   "outputs": [],
   "source": []
  },
  {
   "cell_type": "markdown",
   "id": "adb28c91",
   "metadata": {},
   "source": [
    "7. What is the amount of variance explained in your model?"
   ]
  },
  {
   "cell_type": "code",
   "execution_count": 85,
   "id": "bdd9a7f8",
   "metadata": {},
   "outputs": [
    {
     "name": "stdout",
     "output_type": "stream",
     "text": [
      "R-squared =  0.457\n",
      "Percent of variance in y explained by x =  45.7 %\n"
     ]
    }
   ],
   "source": [
    "# done manually\n",
    "\n",
    "R2 = ESS/TSS\n",
    "print('R-squared = ',round(R2,3))\n",
    "print(\"Percent of variance in y explained by x = \", round(R2*100,1), \"%\")"
   ]
  },
  {
   "cell_type": "code",
   "execution_count": 86,
   "id": "7fccfd20",
   "metadata": {},
   "outputs": [
    {
     "name": "stdout",
     "output_type": "stream",
     "text": [
      "Explained Variance =  0.457\n"
     ]
    }
   ],
   "source": [
    "# OR done through sklearn\n",
    "\n",
    "evs = explained_variance_score(tips.tip, tips.yhat)\n",
    "print('Explained Variance = ', round(evs,3))"
   ]
  },
  {
   "cell_type": "markdown",
   "id": "2dedd37a",
   "metadata": {},
   "source": [
    "8. Is your model better than the baseline model?"
   ]
  },
  {
   "cell_type": "code",
   "execution_count": 93,
   "id": "4f326cd2",
   "metadata": {},
   "outputs": [
    {
     "name": "stdout",
     "output_type": "stream",
     "text": [
      "Our model performs better than the RMSE_baseline\n"
     ]
    }
   ],
   "source": [
    "if RMSE < RMSE_baseline:\n",
    "    print('Our model performs better than the RMSE_baseline')\n",
    "else:\n",
    "    print('The RMSE_baseline performs better than our model')"
   ]
  },
  {
   "cell_type": "code",
   "execution_count": null,
   "id": "560259b8",
   "metadata": {},
   "outputs": [],
   "source": []
  },
  {
   "cell_type": "markdown",
   "id": "1bd15bae",
   "metadata": {},
   "source": [
    "9. Create a file named evaluate.py that contains the following functions.\n",
    "\n",
    "    - plot_residuals(y, yhat): creates a residual plot\n",
    "    - regression_errors(y, yhat): returns the following values:\n",
    "    - sum of squared errors (SSE)\n",
    "    - explained sum of squares (ESS)\n",
    "    - total sum of squares (TSS)\n",
    "    - mean squared error (MSE)\n",
    "    - root mean squared error (RMSE)\n",
    "    - baseline_mean_errors(y): computes the SSE, MSE, and RMSE for the baseline model\n",
    "    - better_than_baseline(y, yhat): returns true if your model performs better than the baseline, otherwise false"
   ]
  },
  {
   "cell_type": "code",
   "execution_count": 161,
   "id": "5e478000",
   "metadata": {},
   "outputs": [],
   "source": [
    "def plot_residuals(df, y, yhat):\n",
    "    '''\n",
    "    This function takes in a dataframe, the y target variable \n",
    "    and the yhat (model predictions) and creates columns for residuals\n",
    "    and baseline residuals. It returns a graph of both residual columns.\n",
    "    ''' \n",
    "    \n",
    "    # create a residual column\n",
    "    df['residual'] = (yhat - y)\n",
    "\n",
    "    # create a residual baseline column\n",
    "    df['residual_baseline'] = (y.mean() - y)\n",
    "    \n",
    "    fig, ax = plt.subplots(figsize=(13,7))\n",
    "\n",
    "    ax.hist(df.residual_baseline, label='baseline residuals', alpha=.6)\n",
    "    ax.hist(df.residual, label='model residuals', alpha=.6)\n",
    "    ax.legend()\n",
    "\n",
    "    plt.show()"
   ]
  },
  {
   "cell_type": "code",
   "execution_count": 162,
   "id": "8cb268d9",
   "metadata": {
    "scrolled": false
   },
   "outputs": [
    {
     "data": {
      "image/png": "[encoded data removed]",
      "text/plain": [
       "<Figure size 936x504 with 1 Axes>"
      ]
     },
     "metadata": {
      "needs_background": "light"
     },
     "output_type": "display_data"
    }
   ],
   "source": [
    "plot_residuals(tips, tips.tip, tips.yhat)"
   ]
  },
  {
   "cell_type": "code",
   "execution_count": 181,
   "id": "5700913b",
   "metadata": {},
   "outputs": [],
   "source": [
    "def regression_errors(df, y, yhat):\n",
    "    \n",
    "    SSE = mean_squared_error(y, yhat)*len(df)\n",
    "    \n",
    "    MSE = mean_squared_error(y, yhat)\n",
    "    \n",
    "    RMSE = sqrt(mean_squared_error(y, yhat))\n",
    "\n",
    "    ESS = sum((yhat - y.mean())**2)\n",
    "    \n",
    "    TSS = sum((y - y.mean())**2)\n",
    "\n",
    "    # compute explained variance\n",
    "    R2 = ESS / TSS\n",
    "    \n",
    "    print('SSE is:', SSE)\n",
    "    print('ESS is:', ESS)\n",
    "    print('TSS is:', TSS)\n",
    "    print('R2 is:', R2)\n",
    "    print('MSE is:', MSE)\n",
    "    print('RMSE is:', RMSE)"
   ]
  },
  {
   "cell_type": "code",
   "execution_count": 182,
   "id": "af1c32e8",
   "metadata": {},
   "outputs": [
    {
     "name": "stdout",
     "output_type": "stream",
     "text": [
      "SSE is: 252.788743850776\n",
      "ESS is: 212.42373319840416\n",
      "TSS is: 465.21247704918085\n",
      "R2 is: 0.45661658635167557\n",
      "MSE is: 1.036019442011377\n",
      "RMSE is: 1.0178504025697377\n"
     ]
    }
   ],
   "source": [
    "regression_errors(tips, tips.tip, tips.yhat)"
   ]
  },
  {
   "cell_type": "code",
   "execution_count": 168,
   "id": "d7f9ea1c",
   "metadata": {},
   "outputs": [],
   "source": [
    "def baseline_mean_errors(df, y, yhat_baseline):\n",
    "    \n",
    "    SSE_baseline = mean_squared_error(y, yhat_baseline)*len(df)\n",
    "    \n",
    "    MSE_baseline = mean_squared_error(y, yhat_baseline)\n",
    "    \n",
    "    RMSE_baseline = sqrt(mean_squared_error(y, yhat_baseline))\n",
    "    \n",
    "    \n",
    "    print('Baseline SSE is:', SSE_baseline)\n",
    "    print('Baseline MSE is:', MSE_baseline)\n",
    "    print('Baseline RMSE is:', RMSE_baseline)"
   ]
  },
  {
   "cell_type": "code",
   "execution_count": 169,
   "id": "3938c9cb",
   "metadata": {},
   "outputs": [
    {
     "name": "stdout",
     "output_type": "stream",
     "text": [
      "Baseline SSE is: 465.2124770491804\n",
      "Baseline MSE is: 1.906608512496641\n",
      "Baseline RMSE is: 1.3807999538298954\n"
     ]
    }
   ],
   "source": [
    "baseline_mean_errors(tips, tips.tip, tips.baseline)"
   ]
  },
  {
   "cell_type": "code",
   "execution_count": 170,
   "id": "dd273e02",
   "metadata": {},
   "outputs": [],
   "source": [
    "def better_than_baseline(df, y, yhat, yhat_baseline):\n",
    "\n",
    "        RMSE = sqrt(mean_squared_error(y, yhat))\n",
    "    \n",
    "        RMSE_baseline = sqrt(mean_squared_error(y, yhat_baseline))\n",
    "        \n",
    "        if RMSE < RMSE_baseline:\n",
    "            print('True - The model performs better than the baseline')\n",
    "            \n",
    "        elif RMSE > RMSE_baseline:\n",
    "            print('False - The baseline performs better than the model')\n",
    "        \n",
    "        return RMSE, RMSE_baseline"
   ]
  },
  {
   "cell_type": "code",
   "execution_count": 171,
   "id": "0ee48847",
   "metadata": {},
   "outputs": [
    {
     "name": "stdout",
     "output_type": "stream",
     "text": [
      "True - The model performs better than the baseline\n"
     ]
    },
    {
     "data": {
      "text/plain": [
       "(1.0178504025697377, 1.3807999538298954)"
      ]
     },
     "execution_count": 171,
     "metadata": {},
     "output_type": "execute_result"
    }
   ],
   "source": [
    "better_than_baseline(tips, tips.tip, tips.yhat, tips.baseline)"
   ]
  },
  {
   "cell_type": "code",
   "execution_count": null,
   "id": "2fcbf6b6",
   "metadata": {},
   "outputs": [],
   "source": []
  },
  {
   "cell_type": "markdown",
   "id": "597866c1",
   "metadata": {},
   "source": [
    "10. Load the mpg dataset and fit a model that predicts highway mileage based on engine displacement. Take a look at all the regression evaluation metrics, and determine whether this model is better than the baseline model. Use the functions from your evaluate.py to help accomplish this."
   ]
  },
  {
   "cell_type": "code",
   "execution_count": 133,
   "id": "04f31c4e",
   "metadata": {},
   "outputs": [
    {
     "data": {
      "text/html": [
       "<div>\n",
       "<style scoped>\n",
       "    .dataframe tbody tr th:only-of-type {\n",
       "        vertical-align: middle;\n",
       "    }\n",
       "\n",
       "    .dataframe tbody tr th {\n",
       "        vertical-align: top;\n",
       "    }\n",
       "\n",
       "    .dataframe thead th {\n",
       "        text-align: right;\n",
       "    }\n",
       "</style>\n",
       "<table border=\"1\" class=\"dataframe\">\n",
       "  <thead>\n",
       "    <tr style=\"text-align: right;\">\n",
       "      <th></th>\n",
       "      <th>manufacturer</th>\n",
       "      <th>model</th>\n",
       "      <th>displ</th>\n",
       "      <th>year</th>\n",
       "      <th>cyl</th>\n",
       "      <th>trans</th>\n",
       "      <th>drv</th>\n",
       "      <th>cty</th>\n",
       "      <th>hwy</th>\n",
       "      <th>fl</th>\n",
       "      <th>class</th>\n",
       "    </tr>\n",
       "  </thead>\n",
       "  <tbody>\n",
       "    <tr>\n",
       "      <th>1</th>\n",
       "      <td>audi</td>\n",
       "      <td>a4</td>\n",
       "      <td>1.8</td>\n",
       "      <td>1999</td>\n",
       "      <td>4</td>\n",
       "      <td>auto(l5)</td>\n",
       "      <td>f</td>\n",
       "      <td>18</td>\n",
       "      <td>29</td>\n",
       "      <td>p</td>\n",
       "      <td>compact</td>\n",
       "    </tr>\n",
       "    <tr>\n",
       "      <th>2</th>\n",
       "      <td>audi</td>\n",
       "      <td>a4</td>\n",
       "      <td>1.8</td>\n",
       "      <td>1999</td>\n",
       "      <td>4</td>\n",
       "      <td>manual(m5)</td>\n",
       "      <td>f</td>\n",
       "      <td>21</td>\n",
       "      <td>29</td>\n",
       "      <td>p</td>\n",
       "      <td>compact</td>\n",
       "    </tr>\n",
       "    <tr>\n",
       "      <th>3</th>\n",
       "      <td>audi</td>\n",
       "      <td>a4</td>\n",
       "      <td>2.0</td>\n",
       "      <td>2008</td>\n",
       "      <td>4</td>\n",
       "      <td>manual(m6)</td>\n",
       "      <td>f</td>\n",
       "      <td>20</td>\n",
       "      <td>31</td>\n",
       "      <td>p</td>\n",
       "      <td>compact</td>\n",
       "    </tr>\n",
       "    <tr>\n",
       "      <th>4</th>\n",
       "      <td>audi</td>\n",
       "      <td>a4</td>\n",
       "      <td>2.0</td>\n",
       "      <td>2008</td>\n",
       "      <td>4</td>\n",
       "      <td>auto(av)</td>\n",
       "      <td>f</td>\n",
       "      <td>21</td>\n",
       "      <td>30</td>\n",
       "      <td>p</td>\n",
       "      <td>compact</td>\n",
       "    </tr>\n",
       "    <tr>\n",
       "      <th>5</th>\n",
       "      <td>audi</td>\n",
       "      <td>a4</td>\n",
       "      <td>2.8</td>\n",
       "      <td>1999</td>\n",
       "      <td>6</td>\n",
       "      <td>auto(l5)</td>\n",
       "      <td>f</td>\n",
       "      <td>16</td>\n",
       "      <td>26</td>\n",
       "      <td>p</td>\n",
       "      <td>compact</td>\n",
       "    </tr>\n",
       "  </tbody>\n",
       "</table>\n",
       "</div>"
      ],
      "text/plain": [
       "  manufacturer model  displ  year  cyl       trans drv  cty  hwy fl    class\n",
       "1         audi    a4    1.8  1999    4    auto(l5)   f   18   29  p  compact\n",
       "2         audi    a4    1.8  1999    4  manual(m5)   f   21   29  p  compact\n",
       "3         audi    a4    2.0  2008    4  manual(m6)   f   20   31  p  compact\n",
       "4         audi    a4    2.0  2008    4    auto(av)   f   21   30  p  compact\n",
       "5         audi    a4    2.8  1999    6    auto(l5)   f   16   26  p  compact"
      ]
     },
     "execution_count": 133,
     "metadata": {},
     "output_type": "execute_result"
    }
   ],
   "source": [
    "mpg = data('mpg')\n",
    "mpg.head()"
   ]
  },
  {
   "cell_type": "code",
   "execution_count": 134,
   "id": "9e5a509b",
   "metadata": {},
   "outputs": [],
   "source": [
    "model = LinearRegression().fit(mpg[['displ']], mpg.hwy)"
   ]
  },
  {
   "cell_type": "code",
   "execution_count": 178,
   "id": "c9a356f3",
   "metadata": {},
   "outputs": [],
   "source": [
    "#Establish a baseline\n",
    "\n",
    "mpg['yhat_baseline'] = mpg.hwy.mean()"
   ]
  },
  {
   "cell_type": "code",
   "execution_count": 135,
   "id": "dbc10f4c",
   "metadata": {},
   "outputs": [],
   "source": [
    "# y\n",
    "\n",
    "actual = mpg.hwy \n",
    "\n",
    "# yhat\n",
    "\n",
    "predicted = model.predict(mpg[['displ']])"
   ]
  },
  {
   "cell_type": "code",
   "execution_count": 136,
   "id": "f5ccf0b0",
   "metadata": {},
   "outputs": [],
   "source": [
    "#y\n",
    "#use the model\n",
    "\n",
    "mpg['actual'] = mpg['hwy']"
   ]
  },
  {
   "cell_type": "code",
   "execution_count": 137,
   "id": "153b90d9",
   "metadata": {},
   "outputs": [],
   "source": [
    "#yhat\n",
    "\n",
    "mpg['predicted'] = model.predict(mpg[['displ']])"
   ]
  },
  {
   "cell_type": "code",
   "execution_count": 172,
   "id": "252b9dca",
   "metadata": {},
   "outputs": [
    {
     "data": {
      "image/png": "[encoded data removed]",
      "text/plain": [
       "<Figure size 936x504 with 1 Axes>"
      ]
     },
     "metadata": {
      "needs_background": "light"
     },
     "output_type": "display_data"
    }
   ],
   "source": [
    "#use function created\n",
    "\n",
    "plot_residuals(mpg, mpg.actual, mpg.predicted)"
   ]
  },
  {
   "cell_type": "code",
   "execution_count": 174,
   "id": "f4f4b3f8",
   "metadata": {},
   "outputs": [
    {
     "name": "stdout",
     "output_type": "stream",
     "text": [
      "SSE is: 3413.829008995467\n",
      "ESS is: 4847.833384166925\n",
      "TSS is: 8261.662393162384\n",
      "R2 is: 0.5867866723989045\n",
      "MSE is: 14.589012858954987\n",
      "RMSE is: 3.8195566312014524\n"
     ]
    }
   ],
   "source": [
    "#use function created\n",
    "\n",
    "regression_errors(mpg, mpg.actual, mpg.predicted)"
   ]
  },
  {
   "cell_type": "code",
   "execution_count": 176,
   "id": "43b414c4",
   "metadata": {},
   "outputs": [
    {
     "name": "stdout",
     "output_type": "stream",
     "text": [
      "Baseline SSE is: 3413.829008995467\n",
      "Baseline MSE is: 14.589012858954987\n",
      "Baseline RMSE is: 3.8195566312014524\n"
     ]
    }
   ],
   "source": [
    "#use function created\n",
    "\n",
    "baseline_mean_errors(mpg, mpg.actual, mpg.predicted)"
   ]
  },
  {
   "cell_type": "code",
   "execution_count": 180,
   "id": "60b6fe4d",
   "metadata": {},
   "outputs": [
    {
     "name": "stdout",
     "output_type": "stream",
     "text": [
      "True - The model performs better than the baseline\n"
     ]
    },
    {
     "data": {
      "text/plain": [
       "(3.8195566312014524, 5.941906221359356)"
      ]
     },
     "execution_count": 180,
     "metadata": {},
     "output_type": "execute_result"
    }
   ],
   "source": [
    "#use function created\n",
    "\n",
    "better_than_baseline(mpg, mpg.actual, mpg.predicted, mpg.yhat_baseline)"
   ]
  },
  {
   "cell_type": "code",
   "execution_count": null,
   "id": "011d5fdf",
   "metadata": {},
   "outputs": [],
   "source": []
  }
 ],
 "metadata": {
  "kernelspec": {
   "display_name": "Python 3",
   "language": "python",
   "name": "python3"
  },
  "language_info": {
   "codemirror_mode": {
    "name": "ipython",
    "version": 3
   },
   "file_extension": ".py",
   "mimetype": "text/x-python",
   "name": "python",
   "nbconvert_exporter": "python",
   "pygments_lexer": "ipython3",
   "version": "3.8.8"
  }
 },
 "nbformat": 4,
 "nbformat_minor": 5
}
